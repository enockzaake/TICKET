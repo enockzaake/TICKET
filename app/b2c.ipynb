{
 "cells": [
  {
   "cell_type": "code",
   "execution_count": null,
   "metadata": {},
   "outputs": [],
   "source": [
    "import requests\n",
    "\n",
    "url = \"https://google-translate1.p.rapidapi.com/language/translate/v2/detect\"\n",
    "\n",
    "payload = { \"q\": \"English is hard, but detectably so\" }\n",
    "headers = {\n",
    "\t\"content-type\": \"application/x-www-form-urlencoded\",\n",
    "\t\"Accept-Encoding\": \"application/gzip\",\n",
    "\t\"X-RapidAPI-Key\": \"0c48e39e3fmsh0c58c643fc528a7p1a9d99jsn4d8abb5b66e7\",\n",
    "\t\"X-RapidAPI-Host\": \"google-translate1.p.rapidapi.com\"\n",
    "}\n",
    "\n",
    "response = requests.post(url, data=payload, headers=headers)\n",
    "\n",
    "print(response.json())"
   ]
  },
  {
   "cell_type": "code",
   "execution_count": null,
   "metadata": {},
   "outputs": [],
   "source": [
    "import requests\n",
    "\n",
    "url = \"https://google-translate1.p.rapidapi.com/language/translate/v2\"\n",
    "\n",
    "payload = {\n",
    "\t\"q\": \"car\",\n",
    "\t\"target\": \"en\",\n",
    "\t\"source\": \"tg\"\n",
    "}\n",
    "headers = {\n",
    "\t\"content-type\": \"application/x-www-form-urlencoded\",\n",
    "\t\"Accept-Encoding\": \"application/gzip\",\n",
    "\t\"X-RapidAPI-Key\": \"0c48e39e3fmsh0c58c643fc528a7p1a9d99jsn4d8abb5b66e7\",\n",
    "\t\"X-RapidAPI-Host\": \"google-translate1.p.rapidapi.com\"\n",
    "}\n",
    "\n",
    "response = requests.post(url, data=payload, headers=headers)\n",
    "\n",
    "print(response.json())"
   ]
  },
  {
   "cell_type": "code",
   "execution_count": null,
   "metadata": {},
   "outputs": [],
   "source": [
    "import requests\n",
    "\n",
    "url = \"https://google-translate1.p.rapidapi.com/language/translate/v2/languages\"\n",
    "\n",
    "headers = {\n",
    "\t\"Accept-Encoding\": \"application/gzip\",\n",
    "\t\"X-RapidAPI-Key\": \"0c48e39e3fmsh0c58c643fc528a7p1a9d99jsn4d8abb5b66e7\",\n",
    "\t\"X-RapidAPI-Host\": \"google-translate1.p.rapidapi.com\"\n",
    "}\n",
    "\n",
    "response = requests.get(url, headers=headers)\n",
    "\n",
    "print(response.json())"
   ]
  },
  {
   "cell_type": "code",
   "execution_count": null,
   "metadata": {},
   "outputs": [],
   "source": [
    "{\n",
    "    'event_id': '25156093-bebf-4862-bf32-28319bdd08be',\n",
    "    'ticket_ids':\n",
    "        {'ticket-1': '30531fb2-06cd-4eb8-8c81-bbb5be408fb0'},\n",
    "    'order_summary': {\n",
    "        'ticket-1': 3,\n",
    "        'ticket_quantity': 3,\n",
    "        'total_amount': 2400\n",
    "        }\n",
    "}"
   ]
  },
  {
   "cell_type": "code",
   "execution_count": 7,
   "metadata": {},
   "outputs": [
    {
     "data": {
      "text/plain": [
       "False"
      ]
     },
     "execution_count": 7,
     "metadata": {},
     "output_type": "execute_result"
    }
   ],
   "source": [
    "x = {\n",
    "    'event_id': '25156093-bebf-4862-bf32-28319bdd08be',\n",
    "    'ticket_ids': {'ticket-1': '30531fb2-06cd-4eb8-8c81-bbb5be408fb0', 'ticket-2': '930e1391-de74-4b3e-8b7f-8b28dd489be2'},\n",
    "    'order_summary':\n",
    "        {'ticket-1': 2, 'ticket-2': 1, 'ticket_quantity': 3, 'total_amount': 400}\n",
    "        \n",
    "}\n",
    "\n",
    "\n",
    "x[\"ticket_ids\"][\"ticket-1\"].price * x[\"order_summary\"][\"ticket-1\"] +  \\\n",
    "x[\"ticket_ids\"][\"ticket-2\"].price * x[\"order_summary\"][\"ticket-2\"]  == x[\"order_summary\"][\"total_amount\"]\n",
    "\n",
    "\n"
   ]
  }
 ],
 "metadata": {
  "kernelspec": {
   "display_name": "venv",
   "language": "python",
   "name": "python3"
  },
  "language_info": {
   "codemirror_mode": {
    "name": "ipython",
    "version": 3
   },
   "file_extension": ".py",
   "mimetype": "text/x-python",
   "name": "python",
   "nbconvert_exporter": "python",
   "pygments_lexer": "ipython3",
   "version": "3.10.12"
  },
  "orig_nbformat": 4
 },
 "nbformat": 4,
 "nbformat_minor": 2
}
