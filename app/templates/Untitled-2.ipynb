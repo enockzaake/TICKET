{
 "cells": [
  {
   "cell_type": "code",
   "execution_count": null,
   "metadata": {},
   "outputs": [],
   "source": [
    "{\n",
    "    \n",
    " 'csrfmiddlewaretoken': ['cZ2HvJhtdEmR5JT3rdLwizOAksxc8o4pOyRTGxQJ8OfR0dtA8moWE73XXZUjoBFa'], \n",
    " 'ticket-1': ['c0237234-6e14-4014-aa1f-68e9f636c7ad'],\n",
    " 'ticket-2': ['f855f667-95b1-421b-b84a-182c6c0f4a67'],\n",
    "\n",
    " 'first_name_ticket-1_0': ['aa'],\n",
    " 'last_name_ticket-1_0': ['vv'],\n",
    " 'phone_ticket-1_0': ['11111111111'],\n",
    " 'email_ticket-1_0': ['aa@a.com'],\n",
    " \n",
    " 'first_name_ticket-2_0': ['bb'],\n",
    " 'last_name_ticket-2_0': ['cc'],\n",
    " 'phone_ticket-2_0': ['3333'],\n",
    " 'email_ticket-2_0': ['cc@mm.com']\n",
    " \n",
    " }"
   ]
  },
  {
   "cell_type": "code",
   "execution_count": null,
   "metadata": {},
   "outputs": [],
   "source": [
    "{\n",
    "    'csrfmiddlewaretoken': ['cZ2HvJhtdEmR5JT3rdLwizOAksxc8o4pOyRTGxQJ8OfR0dtA8moWE73XXZUjoBFa'],\n",
    "    'ticket-1': ['c0237234-6e14-4014-aa1f-68e9f636c7ad'],\n",
    "    'ticket-2': ['f855f667-95b1-421b-b84a-182c6c0f4a67'],\n",
    "\n",
    "    'first_name_ticket-1_0': ['aaa'],\n",
    "    'last_name_ticket-1_0': ['bbbb'],\n",
    "    'phone_ticket-1_0': ['11111'],\n",
    "    'email_ticket-1_0': ['aa@gmail.com'],\n",
    "\n",
    "    'first_name_ticket-1_1': ['cccccc'],\n",
    "    'last_name_ticket-1_1': ['ddddd'],\n",
    "    'phone_ticket-1_1': ['222222'],\n",
    "    'email_ticket-1_1': ['cccc@x.com'],\n",
    "    \n",
    "    'first_name_ticket-2_0': ['eeeeee'],\n",
    "    'last_name_ticket-2_0': ['ffff'],\n",
    "    'phone_ticket-2_0': ['33223432'],\n",
    "    'email_ticket-2_0': ['ffff@a.com']\n",
    "    \n",
    "}\n",
    "\n"
   ]
  },
  {
   "cell_type": "code",
   "execution_count": 2,
   "metadata": {},
   "outputs": [
    {
     "data": {
      "text/plain": [
       "'1222'"
      ]
     },
     "execution_count": 2,
     "metadata": {},
     "output_type": "execute_result"
    }
   ],
   "source": [
    "\"+256706029166\"\n",
    "\"zaakeenock@gmail.com\"\n",
    "\"mobile-money\"\n",
    "data = {\n",
    "    'event_id': 'e9fa000b-5741-420a-9f5e-d9844bf42577',\n",
    "    'ticket_ids': \n",
    "        {\n",
    "            'ticket-1': 'c0237234-6e14-4014-aa1f-68e9f636c7ad',\n",
    "            'ticket-2': 'f855f667-95b1-421b-b84a-182c6c0f4a67'\n",
    "        },\n",
    "    'order_summary':\n",
    "        {\n",
    "            'ticket-1': 1,\n",
    "            'ticket-2': 1,\n",
    "            'ticket_quantity': '2',\n",
    "            'total_amount': '1222'\n",
    "        }\n",
    "}\n",
    "\n",
    "data[\"order_summary\"][\"total_amount\"]"
   ]
  }
 ],
 "metadata": {
  "kernelspec": {
   "display_name": "venv",
   "language": "python",
   "name": "python3"
  },
  "language_info": {
   "codemirror_mode": {
    "name": "ipython",
    "version": 3
   },
   "file_extension": ".py",
   "mimetype": "text/x-python",
   "name": "python",
   "nbconvert_exporter": "python",
   "pygments_lexer": "ipython3",
   "version": "3.10.12"
  },
  "orig_nbformat": 4
 },
 "nbformat": 4,
 "nbformat_minor": 2
}
